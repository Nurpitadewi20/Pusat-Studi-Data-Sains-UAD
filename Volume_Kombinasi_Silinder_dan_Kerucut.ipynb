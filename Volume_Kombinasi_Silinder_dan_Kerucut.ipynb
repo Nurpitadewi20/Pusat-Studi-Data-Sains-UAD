{
  "nbformat": 4,
  "nbformat_minor": 0,
  "metadata": {
    "colab": {
      "name": "Volume Kombinasi Silinder dan Kerucut.ipynb",
      "provenance": [],
      "collapsed_sections": [],
      "authorship_tag": "ABX9TyNIeSCcHmB8x13mLByO0OP5",
      "include_colab_link": true
    },
    "kernelspec": {
      "name": "python3",
      "display_name": "Python 3"
    }
  },
  "cells": [
    {
      "cell_type": "markdown",
      "metadata": {
        "id": "view-in-github",
        "colab_type": "text"
      },
      "source": [
        "<a href=\"https://colab.research.google.com/github/Nurpitadewi20/Pusat-Studi-Data-Sains-UAD/blob/main/Volume_Kombinasi_Silinder_dan_Kerucut.ipynb\" target=\"_parent\"><img src=\"https://colab.research.google.com/assets/colab-badge.svg\" alt=\"Open In Colab\"/></a>"
      ]
    },
    {
      "cell_type": "markdown",
      "metadata": {
        "id": "yr0k3Wo5RMxa"
      },
      "source": [
        "Kolom 1  |  Kolom 2\r\n",
        "---------|------------\r\n",
        "Nama     | Nurpita Dewi\r\n",
        "NIM      | 1900015010\r\n",
        "Semester | 3"
      ]
    },
    {
      "cell_type": "code",
      "metadata": {
        "colab": {
          "base_uri": "https://localhost:8080/"
        },
        "id": "vZ6X1bYyOa2L",
        "outputId": "17c19ea2-7d6f-4e67-ba33-ef797161914d"
      },
      "source": [
        "# a = alas\r\n",
        "# t = tinggi\r\n",
        "\r\n",
        "print(\"volume silinder\")\r\n",
        "a = float(input(\"Luas alas silinder yang berbentuk lingkaran: \"))\r\n",
        "t = float(input(\"Tinggi silinder : \"))\r\n",
        "\r\n",
        "def volume_silinder(a):\r\n",
        "   Volume = a*t\r\n",
        "   return Volume\r\n",
        "\r\n",
        "print(\"volume Kerucut\")\r\n",
        "A = float(input(\"Luas alas kerucut yang berbentuk lingkaran : \"))\r\n",
        "T = float(input(\"Tinggi kerucut : \"))\r\n",
        "\r\n",
        "def volume_kerucut(t):\r\n",
        "   Volume = 1/3*a*t\r\n",
        "   return Volume\r\n",
        "\r\n",
        "def volume_total(a,t):\r\n",
        "   v1 = volume_silinder(a)\r\n",
        "   v2 = volume_kerucut(a)\r\n",
        "   Volume = v1+v2\r\n",
        "   return Volume\r\n",
        "print(\"Maka Volume Kombinasinya adalah : \", volume_total(a,t))"
      ],
      "execution_count": 3,
      "outputs": [
        {
          "output_type": "stream",
          "text": [
            "volume silinder\n",
            "Luas alas silinder yang berbentuk lingkaran: 154\n",
            "Tinggi silinder : 22\n",
            "volume Kerucut\n",
            "Luas alas kerucut yang berbentuk lingkaran : 154\n",
            "Tinggi kerucut : 22\n",
            "Maka Volume Kombinasinya adalah :  11293.333333333332\n"
          ],
          "name": "stdout"
        }
      ]
    }
  ]
}